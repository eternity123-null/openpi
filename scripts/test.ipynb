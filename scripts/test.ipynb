{
 "cells": [
  {
   "cell_type": "code",
   "execution_count": 4,
   "metadata": {},
   "outputs": [],
   "source": [
    "from openpi_client import image_tools\n",
    "from openpi_client import websocket_client_policy\n",
    "import numpy as np\n",
    "# Outside of episode loop, initialize the policy client.\n",
    "# Point to the host and port of the policy server (localhost and 8000 are the defaults).\n",
    "client = websocket_client_policy.WebsocketClientPolicy(\n",
    "    host=\"notebook-inspire.sii.edu.cn/ws-9dcc0e1f-80a4-4af2-bc2f-0e352e7b17e6/project-0a63ad2d-c102-4f9f-bdf4-af1a164bc0b0/user-75964175-4d36-4423-b4c7-d0e3502e067f/vscode/e19f39b1-2689-49e0-85b9-98ca7b79aede/b11f4d30-8ec7-4fc7-9887-74fc66512da2/proxy/\", port=8000)"
   ]
  },
  {
   "cell_type": "code",
   "execution_count": 5,
   "metadata": {},
   "outputs": [],
   "source": [
    "def make_autolife_example() -> dict:\n",
    "    \"\"\"Creates a random input example for the Autolife policy.\"\"\"\n",
    "    return {\n",
    "        \"state\": np.random.rand(20),\n",
    "        \"eef_pos\": np.random.rand(6),\n",
    "        \"head_left_image\": np.random.randint(256, size=(3, 512, 512), dtype=np.uint8),\n",
    "        \"hand_left_image\": np.random.randint(256, size=(3, 480, 640), dtype=np.uint8),\n",
    "        \"hand_right_image\": np.random.randint(256, size=(3, 480, 640), dtype=np.uint8),\n",
    "        \"task\": \"do something\",\n",
    "    }"
   ]
  },
  {
   "cell_type": "code",
   "execution_count": 6,
   "metadata": {},
   "outputs": [],
   "source": [
    "exp=make_autolife_example()\n",
    "action_chunk = client.infer(exp)[\"actions\"]"
   ]
  },
  {
   "cell_type": "code",
   "execution_count": 10,
   "metadata": {},
   "outputs": [
    {
     "name": "stdout",
     "output_type": "stream",
     "text": [
      "[0.88675743 0.75812241 0.36416176 0.88078919 0.1859987  0.3442798\n",
      " 0.93880298 0.6756032  0.4773301  0.34702195 0.94261335 0.99895292\n",
      " 0.87161264 0.19601166 0.42439524 0.48427598 0.79961603 0.82505786\n",
      " 0.42189307 0.36867311]\n",
      "[ 1.00134314e+00  7.63749981e-01  3.95130572e-01  7.82838718e-01\n",
      "  1.63847582e-01  3.01700285e-01  8.77839922e-01  7.36083665e-01\n",
      "  3.89464729e-01  4.31132506e-01  9.44780728e-01  9.66652856e-01\n",
      "  7.70600932e-01 -2.52933545e-03  5.39662559e+02  1.23957801e+03\n",
      "  7.96347956e-01  7.97057120e-01  4.31215060e-01  3.87053818e-01\n",
      "  6.28988147e-01  5.42398487e-01 -6.39775069e-01 -3.15825483e-01\n",
      "  1.69356900e-01 -9.55422380e-01]\n"
     ]
    }
   ],
   "source": [
    "print(exp[\"state\"])\n",
    "print(action_chunk[0])"
   ]
  },
  {
   "cell_type": "code",
   "execution_count": 8,
   "metadata": {},
   "outputs": [
    {
     "data": {
      "text/plain": [
       "50"
      ]
     },
     "execution_count": 8,
     "metadata": {},
     "output_type": "execute_result"
    }
   ],
   "source": [
    "len(action_chunk)"
   ]
  },
  {
   "cell_type": "code",
   "execution_count": 6,
   "metadata": {},
   "outputs": [
    {
     "data": {
      "text/plain": [
       "(50, 26)"
      ]
     },
     "execution_count": 6,
     "metadata": {},
     "output_type": "execute_result"
    }
   ],
   "source": [
    "action_chunk.shape"
   ]
  },
  {
   "cell_type": "code",
   "execution_count": null,
   "metadata": {},
   "outputs": [],
   "source": []
  }
 ],
 "metadata": {
  "kernelspec": {
   "display_name": ".venv",
   "language": "python",
   "name": "python3"
  },
  "language_info": {
   "codemirror_mode": {
    "name": "ipython",
    "version": 3
   },
   "file_extension": ".py",
   "mimetype": "text/x-python",
   "name": "python",
   "nbconvert_exporter": "python",
   "pygments_lexer": "ipython3",
   "version": "3.11.13"
  }
 },
 "nbformat": 4,
 "nbformat_minor": 2
}
